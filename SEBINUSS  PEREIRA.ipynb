{
 "cells": [
  {
   "cell_type": "code",
   "execution_count": 1,
   "id": "f148b6ce",
   "metadata": {},
   "outputs": [],
   "source": [
    "# Importing the libraries"
   ]
  },
  {
   "cell_type": "code",
   "execution_count": 2,
   "id": "88a60411",
   "metadata": {},
   "outputs": [],
   "source": [
    "import pandas as pd\n",
    "import numpy as np\n",
    "import matplotlib.pyplot as plt\n",
    "import seaborn as sns"
   ]
  },
  {
   "cell_type": "code",
   "execution_count": 3,
   "id": "e8eb410e",
   "metadata": {},
   "outputs": [],
   "source": [
    "# Loading the dataset onto the Python platform"
   ]
  },
  {
   "cell_type": "code",
   "execution_count": 4,
   "id": "801492b4",
   "metadata": {},
   "outputs": [],
   "source": [
    "data = pd.read_csv(r\"C:\\Users\\sebin\\Downloads\\car_age_price.csv\")"
   ]
  },
  {
   "cell_type": "code",
   "execution_count": 5,
   "id": "97b7262a",
   "metadata": {},
   "outputs": [
    {
     "data": {
      "text/html": [
       "<div>\n",
       "<style scoped>\n",
       "    .dataframe tbody tr th:only-of-type {\n",
       "        vertical-align: middle;\n",
       "    }\n",
       "\n",
       "    .dataframe tbody tr th {\n",
       "        vertical-align: top;\n",
       "    }\n",
       "\n",
       "    .dataframe thead th {\n",
       "        text-align: right;\n",
       "    }\n",
       "</style>\n",
       "<table border=\"1\" class=\"dataframe\">\n",
       "  <thead>\n",
       "    <tr style=\"text-align: right;\">\n",
       "      <th></th>\n",
       "      <th>Year</th>\n",
       "      <th>Price</th>\n",
       "    </tr>\n",
       "  </thead>\n",
       "  <tbody>\n",
       "    <tr>\n",
       "      <th>0</th>\n",
       "      <td>2018</td>\n",
       "      <td>465000</td>\n",
       "    </tr>\n",
       "    <tr>\n",
       "      <th>1</th>\n",
       "      <td>2019</td>\n",
       "      <td>755000</td>\n",
       "    </tr>\n",
       "    <tr>\n",
       "      <th>2</th>\n",
       "      <td>2019</td>\n",
       "      <td>700000</td>\n",
       "    </tr>\n",
       "    <tr>\n",
       "      <th>3</th>\n",
       "      <td>2018</td>\n",
       "      <td>465000</td>\n",
       "    </tr>\n",
       "    <tr>\n",
       "      <th>4</th>\n",
       "      <td>2018</td>\n",
       "      <td>465000</td>\n",
       "    </tr>\n",
       "  </tbody>\n",
       "</table>\n",
       "</div>"
      ],
      "text/plain": [
       "   Year   Price\n",
       "0  2018  465000\n",
       "1  2019  755000\n",
       "2  2019  700000\n",
       "3  2018  465000\n",
       "4  2018  465000"
      ]
     },
     "execution_count": 5,
     "metadata": {},
     "output_type": "execute_result"
    }
   ],
   "source": [
    "data.head()"
   ]
  },
  {
   "cell_type": "code",
   "execution_count": 6,
   "id": "6fe3ded6",
   "metadata": {},
   "outputs": [],
   "source": [
    "# Checking the details of the data"
   ]
  },
  {
   "cell_type": "code",
   "execution_count": 7,
   "id": "aae19472",
   "metadata": {},
   "outputs": [
    {
     "data": {
      "text/plain": [
       "(112, 2)"
      ]
     },
     "execution_count": 7,
     "metadata": {},
     "output_type": "execute_result"
    }
   ],
   "source": [
    "data.shape"
   ]
  },
  {
   "cell_type": "code",
   "execution_count": 8,
   "id": "e08a8443",
   "metadata": {},
   "outputs": [
    {
     "name": "stdout",
     "output_type": "stream",
     "text": [
      "<class 'pandas.core.frame.DataFrame'>\n",
      "RangeIndex: 112 entries, 0 to 111\n",
      "Data columns (total 2 columns):\n",
      " #   Column  Non-Null Count  Dtype\n",
      "---  ------  --------------  -----\n",
      " 0   Year    112 non-null    int64\n",
      " 1   Price   112 non-null    int64\n",
      "dtypes: int64(2)\n",
      "memory usage: 1.9 KB\n"
     ]
    }
   ],
   "source": [
    "data.info()"
   ]
  },
  {
   "cell_type": "code",
   "execution_count": 9,
   "id": "c53dc4ce",
   "metadata": {},
   "outputs": [
    {
     "data": {
      "text/plain": [
       "<AxesSubplot:>"
      ]
     },
     "execution_count": 9,
     "metadata": {},
     "output_type": "execute_result"
    },
    {
     "data": {
      "image/png": "[encoded data removed]",
      "text/plain": [
       "<Figure size 576x288 with 2 Axes>"
      ]
     },
     "metadata": {
      "needs_background": "light"
     },
     "output_type": "display_data"
    }
   ],
   "source": [
    "corrmatrix = data.corr()\n",
    "plt.subplots(figsize=(8,4))\n",
    "sns.heatmap(corrmatrix,annot=True,cmap=\"Greens\")"
   ]
  },
  {
   "cell_type": "markdown",
   "id": "f3c74740",
   "metadata": {},
   "source": [
    "# Creating the best model for linear relationship between year and price"
   ]
  },
  {
   "cell_type": "code",
   "execution_count": 10,
   "id": "ba290695",
   "metadata": {},
   "outputs": [],
   "source": [
    "X = data.drop(['Price'],axis=1).values.reshape(-1,1)\n",
    "y = data['Price'].values.reshape(-1,1)"
   ]
  },
  {
   "cell_type": "code",
   "execution_count": 11,
   "id": "9d8c6493",
   "metadata": {},
   "outputs": [],
   "source": [
    "from sklearn.model_selection import train_test_split"
   ]
  },
  {
   "cell_type": "code",
   "execution_count": 12,
   "id": "1d6ecd0d",
   "metadata": {},
   "outputs": [],
   "source": [
    "X_train, X_test, y_train , y_test = train_test_split(X,y, test_size=0.3,random_state=42)"
   ]
  },
  {
   "cell_type": "code",
   "execution_count": 13,
   "id": "2ecec978",
   "metadata": {},
   "outputs": [],
   "source": [
    "from sklearn.linear_model import LinearRegression\n",
    "lr = LinearRegression()\n",
    "model1 = lr.fit(X_train,y_train)\n",
    "predictions = model1.predict(X_test)"
   ]
  },
  {
   "cell_type": "code",
   "execution_count": 14,
   "id": "9c1c79f3",
   "metadata": {},
   "outputs": [],
   "source": [
    "# Checking mean squared error and r squared error for linear regression"
   ]
  },
  {
   "cell_type": "code",
   "execution_count": 15,
   "id": "0b6ff557",
   "metadata": {},
   "outputs": [
    {
     "name": "stdout",
     "output_type": "stream",
     "text": [
      "Mean Squared Error is:  3962573261.894448\n",
      "R Squared Value is:  0.4887760028600123\n"
     ]
    }
   ],
   "source": [
    "from sklearn.metrics import mean_squared_error , r2_score\n",
    "print('Mean Squared Error is: ',mean_squared_error(y_test,predictions))\n",
    "print('R Squared Value is: ',r2_score(y_test,predictions))\n",
    "\n"
   ]
  },
  {
   "cell_type": "markdown",
   "id": "5f4a62aa",
   "metadata": {},
   "source": [
    "# Predicting the possible price of a 2022 model second-hand grand i10"
   ]
  },
  {
   "cell_type": "code",
   "execution_count": 16,
   "id": "36c81b6c",
   "metadata": {},
   "outputs": [],
   "source": [
    "predict_2022 = model1.predict([[2022]])"
   ]
  },
  {
   "cell_type": "code",
   "execution_count": 17,
   "id": "a2b72fc5",
   "metadata": {},
   "outputs": [
    {
     "data": {
      "text/plain": [
       "array([[738670.65829848]])"
      ]
     },
     "execution_count": 17,
     "metadata": {},
     "output_type": "execute_result"
    }
   ],
   "source": [
    "predict_2022"
   ]
  },
  {
   "cell_type": "markdown",
   "id": "33d51ca1",
   "metadata": {},
   "source": [
    "# Lasso Regression"
   ]
  },
  {
   "cell_type": "code",
   "execution_count": 18,
   "id": "53f16a1d",
   "metadata": {},
   "outputs": [],
   "source": [
    "# Importing Lasso function from sklearn"
   ]
  },
  {
   "cell_type": "code",
   "execution_count": 19,
   "id": "f6c680ce",
   "metadata": {},
   "outputs": [],
   "source": [
    "from sklearn.linear_model import Lasso"
   ]
  },
  {
   "cell_type": "code",
   "execution_count": 20,
   "id": "17b8d8fb",
   "metadata": {},
   "outputs": [],
   "source": [
    "X_train, X_test, y_train , y_test = train_test_split(X,y, test_size=0.3,random_state=42)"
   ]
  },
  {
   "cell_type": "code",
   "execution_count": 21,
   "id": "8e515bc0",
   "metadata": {},
   "outputs": [],
   "source": [
    "lasso = Lasso(alpha=1.0)\n",
    "lasso.fit(X_train,y_train)\n",
    "predictions_2 = lasso.predict(X_test)"
   ]
  },
  {
   "cell_type": "code",
   "execution_count": 22,
   "id": "7fefc5ba",
   "metadata": {},
   "outputs": [],
   "source": [
    "# Checking mean squared error and r squared error for lasso regression"
   ]
  },
  {
   "cell_type": "code",
   "execution_count": 23,
   "id": "bdd0b992",
   "metadata": {},
   "outputs": [
    {
     "name": "stdout",
     "output_type": "stream",
     "text": [
      "Mean Squared Error is:  3962549680.6533012\n",
      "R Squared Value is:  0.4887790451498477\n"
     ]
    }
   ],
   "source": [
    "print('Mean Squared Error is: ',mean_squared_error(y_test,predictions_2))\n",
    "print('R Squared Value is: ',r2_score(y_test,predictions_2))"
   ]
  },
  {
   "cell_type": "code",
   "execution_count": 24,
   "id": "34508e72",
   "metadata": {},
   "outputs": [],
   "source": [
    "# From the above steps we can conclude that lasso regression is slightly better than linear regression for this dataset"
   ]
  },
  {
   "cell_type": "code",
   "execution_count": null,
   "id": "2bf31a7d",
   "metadata": {},
   "outputs": [],
   "source": []
  }
 ],
 "metadata": {
  "kernelspec": {
   "display_name": "Python 3 (ipykernel)",
   "language": "python",
   "name": "python3"
  },
  "language_info": {
   "codemirror_mode": {
    "name": "ipython",
    "version": 3
   },
   "file_extension": ".py",
   "mimetype": "text/x-python",
   "name": "python",
   "nbconvert_exporter": "python",
   "pygments_lexer": "ipython3",
   "version": "3.9.12"
  }
 },
 "nbformat": 4,
 "nbformat_minor": 5
}
